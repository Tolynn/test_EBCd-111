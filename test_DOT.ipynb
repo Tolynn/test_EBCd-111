{
 "cells": [
  {
   "cell_type": "markdown",
   "id": "1a613d55",
   "metadata": {},
   "source": [
    "Тест. Введение в программирование на языке Python: структурное и процедурное программирование, структуры данных языка программирования\n",
    "Раздел №1"
   ]
  },
  {
   "cell_type": "markdown",
   "id": "c9f8acda",
   "metadata": {},
   "source": [
    "1) Что выведет данный код: "
   ]
  },
  {
   "cell_type": "code",
   "execution_count": null,
   "id": "ffbb5d34",
   "metadata": {},
   "outputs": [],
   "source": [
    "for i in 'hello world': \n",
    "    print(i*2, end='')"
   ]
  },
  {
   "cell_type": "markdown",
   "id": "d3d558d0",
   "metadata": {},
   "source": [
    "2) Что выведет данный код? "
   ]
  },
  {
   "cell_type": "code",
   "execution_count": 24,
   "id": "398bbe11",
   "metadata": {
    "scrolled": true
   },
   "outputs": [
    {
     "name": "stdout",
     "output_type": "stream",
     "text": [
      "0\n"
     ]
    }
   ],
   "source": [
    "for i in range(1): \n",
    "    print(i)"
   ]
  },
  {
   "cell_type": "markdown",
   "id": "3da6cca2",
   "metadata": {},
   "source": [
    "3) Что выведет данный код? "
   ]
  },
  {
   "cell_type": "code",
   "execution_count": null,
   "id": "137f1d8c",
   "metadata": {},
   "outputs": [],
   "source": [
    "a=0 \n",
    "while a<=6: \n",
    "    a+=1 \n",
    "print(a)"
   ]
  },
  {
   "cell_type": "markdown",
   "id": "ba7d41bb",
   "metadata": {},
   "source": [
    "4) Имеется кортеж вида T = (4, 2, 3). Какая из операций приведёт к тому, что имя Т будет ссылаться на кортеж (1, 2, 3)?"
   ]
  },
  {
   "cell_type": "markdown",
   "id": "36f89868",
   "metadata": {},
   "source": [
    "T[0] = 1\n",
    "T = (1) + T[1:]\n",
    "T = (1,) + T[1:]\n",
    "T.startwith(1)"
   ]
  },
  {
   "cell_type": "markdown",
   "id": "dcf7d3c4",
   "metadata": {},
   "source": [
    "5) Для чего в Python используется встроенная функция enumerate()?\n",
    "\n",
    "Для определения количества элементов последовательности\n",
    "Для одновременного итерирования по самим элементам и их индексам\n",
    "Для сортировки элементов по значениям id"
   ]
  },
  {
   "cell_type": "markdown",
   "id": "7f0ab010",
   "metadata": {},
   "source": [
    "6) Что выведет интерпретатор для следующей программы? "
   ]
  },
  {
   "cell_type": "code",
   "execution_count": null,
   "id": "c1c1cb35",
   "metadata": {},
   "outputs": [],
   "source": [
    "def get_name_and_decades(name, age): \n",
    "    print(f\"My name is {name} and I'm {age / 10:.5f} decades old.\") \n",
    "\n",
    "get_name_and_decades(\"Leo\", 31)"
   ]
  },
  {
   "cell_type": "markdown",
   "id": "234ea180",
   "metadata": {},
   "source": [
    "7) Необходимо собрать и вывести все уникальные слова из строки текста. Какой из перечисленных типов данных Python подходит лучше всего?\n",
    "\n",
    "кортеж (tuple)\n",
    "список (list)\n",
    "множество (set)\n",
    "словарь (dict)"
   ]
  },
  {
   "cell_type": "markdown",
   "id": "50e0a4fb",
   "metadata": {},
   "source": [
    "8) Какой результат выведет следующий код? "
   ]
  },
  {
   "cell_type": "code",
   "execution_count": null,
   "id": "5af0a182",
   "metadata": {},
   "outputs": [],
   "source": [
    "def f(a, *pargs, **kargs): \n",
    "    print(a, pargs, kargs) \n",
    "\n",
    "f(1, 2, 3, x=4, y=5)"
   ]
  },
  {
   "cell_type": "markdown",
   "source": [
    "1, 2, 3, {'x': 4, 'y': 5}\n",
    "1 (2, 3) {'x': 4, 'y': 5}\n",
    "1, 2, 3, 'x=4', 'y=5'\n",
    "1, 2, 3, 4, 5"
   ],
   "metadata": {
    "collapsed": false
   }
  },
  {
   "cell_type": "markdown",
   "id": "df25903a",
   "metadata": {},
   "source": [
    "9) Как можно более кратко представить следующую запись? "
   ]
  },
  {
   "cell_type": "code",
   "execution_count": null,
   "id": "93a840f1",
   "metadata": {},
   "outputs": [],
   "source": [
    "if X: \n",
    "    A = Y \n",
    "else:\n",
    "    A = Z"
   ]
  },
  {
   "cell_type": "markdown",
   "id": "972b4b54",
   "metadata": {},
   "source": [
    "10) Что выведет следующий код? "
   ]
  },
  {
   "cell_type": "code",
   "execution_count": null,
   "id": "849c8ef2",
   "metadata": {},
   "outputs": [],
   "source": [
    "try: \n",
    "    raise IndexError \n",
    "except IndexError: \n",
    "    print('Получено исключение.') \n",
    "else: \n",
    "    print('Но в этом нет ничего страшного.')"
   ]
  },
  {
   "cell_type": "markdown",
   "id": "983a5f51",
   "metadata": {},
   "source": [
    "11) Какая IDE не используется для разработки на языке Python?\n",
    "\n",
    "Visual Studio\n",
    "Jupyiter\n",
    "Spyder\n",
    "Atom\n",
    "Greenfoot\n",
    "PyCharm"
   ]
  },
  {
   "cell_type": "markdown",
   "id": "e89453ac",
   "metadata": {},
   "source": [
    "12) В результате выполнения кода будет выведено?"
   ]
  },
  {
   "cell_type": "code",
   "execution_count": null,
   "id": "f4677e0f",
   "metadata": {},
   "outputs": [],
   "source": [
    "text = \"Bring me her letter\" \n",
    "print(\"%s\" %text[2:11])"
   ]
  },
  {
   "cell_type": "markdown",
   "id": "201486b3",
   "metadata": {},
   "source": [
    "13) Какой метод отвечает за добавление элемента в конец списка?\n",
    "\n",
    "append()\n",
    "add()\n",
    "insert()\n",
    "input()"
   ]
  },
  {
   "cell_type": "markdown",
   "id": "79d5772c",
   "metadata": {},
   "source": [
    "14) Какая конструкция служит для создания анонимной функции?\n",
    "\n",
    "anonymous\n",
    "lambda func\n",
    "omega\n",
    "lambda"
   ]
  },
  {
   "cell_type": "markdown",
   "id": "710ac492",
   "metadata": {},
   "source": [
    "15) Какая функция отвечает за вывод длины списка?\n",
    "\n",
    "size()\n",
    "len()\n",
    "getLen()\n",
    "length()"
   ]
  },
  {
   "cell_type": "markdown",
   "id": "4498f9f5",
   "metadata": {},
   "source": [
    "16) Какой метод отвечает за удаление элемента с указанной позиции?\n",
    "\n",
    "pop()\n",
    "delete()\n",
    "remove()\n",
    "clear(0"
   ]
  },
  {
   "cell_type": "markdown",
   "id": "ac541a13",
   "metadata": {},
   "source": [
    "17) Выберите верные утверждения про списки\n",
    "\n",
    "списки являются изменяемыми\n",
    "списки являются неизменяемыми\n",
    "списки имеют фиксированный размер\n",
    "списки являются упорядоченными\n",
    "списки являются неупорядоченными\n",
    "объекты списка индексируются от 0\n",
    "объекты списка индексируются от 1"
   ]
  },
  {
   "cell_type": "markdown",
   "id": "78952acf",
   "metadata": {},
   "source": [
    "18) Функция, выводящая информацию в консоль это?\n",
    "\n",
    "print()\n",
    "input()\n",
    "output()\n",
    "write()"
   ]
  },
  {
   "cell_type": "markdown",
   "id": "58e4f1be",
   "metadata": {},
   "source": [
    "19) Что будет выведено в результате выполнения строки: "
   ]
  },
  {
   "cell_type": "code",
   "execution_count": null,
   "id": "2fb7caab",
   "metadata": {},
   "outputs": [],
   "source": [
    "print(27%12)"
   ]
  },
  {
   "cell_type": "markdown",
   "id": "25081bc3",
   "metadata": {},
   "source": [
    "20) Что будет выведено в результате выполнения строки "
   ]
  },
  {
   "cell_type": "code",
   "execution_count": null,
   "id": "34e01fce",
   "metadata": {},
   "outputs": [],
   "source": [
    "print(37//3)"
   ]
  },
  {
   "cell_type": "markdown",
   "id": "ae440832",
   "metadata": {},
   "source": [
    "21) Какая функция позволяет получить данные от пользователя?\n",
    "\n",
    "read()\n",
    "get()\n",
    "input()\n",
    "readln()"
   ]
  },
  {
   "cell_type": "markdown",
   "id": "40e5dd70",
   "metadata": {},
   "source": [
    "22) Что такое кортеж?\n",
    "\n",
    "неупорядоченная неизменяемая коллекция объектов произвольных типов\n",
    "упорядоченная изменяемая коллекция объектов произвольных типов\n",
    "упорядоченная неизменяемая коллекция объектов произвольных типов\n",
    "упорядоченная неизменяемая коллекция объектов одного типа\n",
    "неупорядоченная неизменяемая коллекция объектов одного типа\n",
    "упорядоченная изменяемая коллекция объектов одного типа"
   ]
  },
  {
   "cell_type": "markdown",
   "id": "a8e8b22d",
   "metadata": {},
   "source": [
    "23) Что такое функция?\n",
    "\n",
    "объект, принимающий аргументы и возвращающий значение\n",
    "структура, определяющая поведение объекта\n",
    "любой программный код\n",
    "код в круглых скобках"
   ]
  },
  {
   "cell_type": "markdown",
   "id": "7e357ecc",
   "metadata": {},
   "source": [
    "24) Какое ключевое слово используется для создания именной функции?\n",
    "\n",
    "function\n",
    "void\n",
    "func\n",
    "def"
   ]
  },
  {
   "cell_type": "markdown",
   "id": "fc17f917",
   "metadata": {},
   "source": [
    "25) Что выведется в результате выполнения кода? "
   ]
  },
  {
   "cell_type": "code",
   "execution_count": null,
   "id": "60f9b85e",
   "metadata": {},
   "outputs": [],
   "source": [
    "def get_sum(a=2, b=5): \n",
    "    print(a+b) \n",
    "\n",
    "get_sum(3)"
   ]
  },
  {
   "cell_type": "markdown",
   "id": "f956edfb",
   "metadata": {},
   "source": [
    "26) Для чего используется ключевое слово global?\n",
    "\n",
    "чтобы значение переменной стало известно в функции\n",
    "чтобы указать, что переменная имеет важное значение\n",
    "чтобы переменную можно было изменять за пределами текущей области видимости\n",
    "чтобы вернуть словарь, представляющий текущую глобальную таблицу символов"
   ]
  },
  {
   "cell_type": "markdown",
   "id": "ac8a2bf3",
   "metadata": {},
   "source": [
    "27) Что выведет данный код? "
   ]
  },
  {
   "cell_type": "code",
   "execution_count": null,
   "id": "b1d5260f",
   "metadata": {},
   "outputs": [],
   "source": [
    "a = 1 \n",
    "for i in range(4): \n",
    "    a*=i \n",
    "print(a)"
   ]
  },
  {
   "cell_type": "markdown",
   "id": "fb2e2d45",
   "metadata": {},
   "source": [
    "28) Что выведет данный код? "
   ]
  },
  {
   "cell_type": "code",
   "execution_count": null,
   "id": "4fcf2e14",
   "metadata": {},
   "outputs": [],
   "source": [
    "a = 40 \n",
    "b = 0 \n",
    "for a in range(5): \n",
    "    for i in range(1): \n",
    "        b = a \n",
    "print(b)"
   ]
  },
  {
   "cell_type": "markdown",
   "id": "b2824402",
   "metadata": {},
   "source": [
    "29) Что выведет данный код? "
   ]
  },
  {
   "cell_type": "code",
   "execution_count": null,
   "id": "eb1e3a6a",
   "metadata": {},
   "outputs": [],
   "source": [
    "a = list(range(3)) \n",
    "print(a)"
   ]
  },
  {
   "cell_type": "markdown",
   "id": "bd0e865e",
   "metadata": {},
   "source": [
    "30) Что выведет данный код? "
   ]
  },
  {
   "cell_type": "code",
   "execution_count": null,
   "id": "5c5f01ae",
   "metadata": {},
   "outputs": [],
   "source": [
    "for j in 'Hi! I\\'m mister Robert': \n",
    "    if j == '\\'': \n",
    "        print(\"Найдено\") \n",
    "        break \n",
    "    else: \n",
    "        print (\"Готово\")"
   ]
  },
  {
   "cell_type": "code",
   "execution_count": null,
   "id": "14f1f382",
   "metadata": {},
   "outputs": [],
   "source": []
  }
 ],
 "metadata": {
  "kernelspec": {
   "display_name": "Python 3 (ipykernel)",
   "language": "python",
   "name": "python3"
  },
  "language_info": {
   "codemirror_mode": {
    "name": "ipython",
    "version": 3
   },
   "file_extension": ".py",
   "mimetype": "text/x-python",
   "name": "python",
   "nbconvert_exporter": "python",
   "pygments_lexer": "ipython3",
   "version": "3.10.6"
  }
 },
 "nbformat": 4,
 "nbformat_minor": 5
}
